{
 "cells": [
  {
   "cell_type": "markdown",
   "metadata": {
    "deletable": true,
    "editable": true
   },
   "source": [
    "# Fibonnaci\n",
    "\n",
    "Calculate the fibonacci digit in position `Fibbo.MAX`."
   ]
  },
  {
   "cell_type": "code",
   "execution_count": 1,
   "metadata": {
    "collapsed": false,
    "deletable": true,
    "editable": true
   },
   "outputs": [],
   "source": [
    "from pyknow import *"
   ]
  },
  {
   "cell_type": "code",
   "execution_count": 2,
   "metadata": {
    "collapsed": false,
    "deletable": true,
    "editable": true
   },
   "outputs": [],
   "source": [
    "class Fibbo(KnowledgeEngine):\n",
    "    MAX = 42\n",
    "    \n",
    "    @Rule()\n",
    "    def first_digit(self):\n",
    "        self.declare(Fact(pos=1, value=1))\n",
    "\n",
    "    @Rule(Fact(pos=1))\n",
    "    def second_digit(self):\n",
    "        self.declare(Fact(pos=2, value=1))\n",
    "        \n",
    "    @Rule(Fact(pos='pos1' << W(),\n",
    "               value='value1' << W()),\n",
    "          Fact(pos='pos2' << P(lambda x: x < Fibbo.MAX),\n",
    "               value='value2' << W()),\n",
    "          TEST(lambda pos1, pos2: pos2 == pos1 + 1))\n",
    "    def compute_next(self, pos1, pos2, value1, value2):\n",
    "        self.declare(Fact(pos=pos2 + 1, value=value1 + value2))\n",
    "    \n",
    "    @Rule(Fact(pos='pos' << L(MAX), value='value' << W()))\n",
    "    def print_last(self, pos, value):\n",
    "        print(\"Fibonnaci digit in position {pos} is {value}\".format(\n",
    "            pos=pos, value=value))"
   ]
  },
  {
   "cell_type": "code",
   "execution_count": 3,
   "metadata": {
    "collapsed": false,
    "deletable": true,
    "editable": true
   },
   "outputs": [],
   "source": [
    "f = Fibbo()"
   ]
  },
  {
   "cell_type": "code",
   "execution_count": 4,
   "metadata": {
    "collapsed": false,
    "deletable": true,
    "editable": true,
    "scrolled": false
   },
   "outputs": [
    {
     "name": "stdout",
     "output_type": "stream",
     "text": [
      "Fibonnaci digit in position 42 is 267914296\n"
     ]
    }
   ],
   "source": [
    "f.reset()\n",
    "f.run()"
   ]
  }
 ],
 "metadata": {
  "kernelspec": {
   "display_name": "Python 3",
   "language": "python",
   "name": "python3"
  },
  "language_info": {
   "codemirror_mode": {
    "name": "ipython",
    "version": 3
   },
   "file_extension": ".py",
   "mimetype": "text/x-python",
   "name": "python",
   "nbconvert_exporter": "python",
   "pygments_lexer": "ipython3",
   "version": "3.4.1"
  }
 },
 "nbformat": 4,
 "nbformat_minor": 2
}
