{
 "cells": [
  {
   "cell_type": "code",
   "execution_count": 1,
   "metadata": {
    "collapsed": false,
    "deletable": true,
    "editable": true,
    "scrolled": false
   },
   "outputs": [],
   "source": [
    "from pyknow import *"
   ]
  },
  {
   "cell_type": "code",
   "execution_count": 2,
   "metadata": {
    "collapsed": false,
    "deletable": true,
    "editable": true,
    "scrolled": false
   },
   "outputs": [],
   "source": [
    "class Maximum(KnowledgeEngine):\n",
    "    @Rule(~Fact(max=W()))\n",
    "    def init(self):\n",
    "        self.declare(Fact(max=0))\n",
    "    \n",
    "    @Rule(Fact(val='val' << W()),\n",
    "          'm' << Fact(max='max' << W()),\n",
    "          TEST(lambda max, val: val > max))\n",
    "    def compute_max(self, m, val, max):\n",
    "        self.modify(m, max=val)\n",
    "    \n",
    "    @Rule('v' << Fact(val=W('val')),\n",
    "          Fact(max=W('max')),\n",
    "          TEST(lambda max, val: val <= max))\n",
    "    def remove_val(self, v, max, val):\n",
    "        self.retract(v)\n",
    "            \n",
    "    @Rule('v' << Fact(max=W())\n",
    "          & ~Fact(val=W()))\n",
    "    def print_max(self, v):\n",
    "        print(\"Max:\", v['max'])"
   ]
  },
  {
   "cell_type": "code",
   "execution_count": 3,
   "metadata": {
    "collapsed": false,
    "deletable": true,
    "editable": true,
    "scrolled": false
   },
   "outputs": [
    {
     "data": {
      "text/plain": [
       "Fact(val=75)"
      ]
     },
     "execution_count": 3,
     "metadata": {},
     "output_type": "execute_result"
    }
   ],
   "source": [
    "m = Maximum()\n",
    "m.reset()\n",
    "m.declare(*[Fact(val=x) for x in (12, 33, 42, 99, 55, 11, 75)])"
   ]
  },
  {
   "cell_type": "code",
   "execution_count": 4,
   "metadata": {
    "collapsed": false,
    "deletable": true,
    "editable": true,
    "scrolled": false
   },
   "outputs": [
    {
     "name": "stdout",
     "output_type": "stream",
     "text": [
      "Max: 99\n"
     ]
    }
   ],
   "source": [
    "# watch(RULES, FACTS, ACTIVATIONS)\n",
    "m.run()"
   ]
  }
 ],
 "metadata": {
  "kernelspec": {
   "display_name": "Python 3",
   "language": "python",
   "name": "python3"
  },
  "language_info": {
   "codemirror_mode": {
    "name": "ipython",
    "version": 3
   },
   "file_extension": ".py",
   "mimetype": "text/x-python",
   "name": "python",
   "nbconvert_exporter": "python",
   "pygments_lexer": "ipython3",
   "version": "3.4.1"
  }
 },
 "nbformat": 4,
 "nbformat_minor": 2
}
